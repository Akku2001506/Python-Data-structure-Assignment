{
  "nbformat": 4,
  "nbformat_minor": 0,
  "metadata": {
    "colab": {
      "provenance": []
    },
    "kernelspec": {
      "name": "python3",
      "display_name": "Python 3"
    },
    "language_info": {
      "name": "python"
    }
  },
  "cells": [
    {
      "cell_type": "markdown",
      "source": [
        "#Data structure\n"
      ],
      "metadata": {
        "id": "f7N9wNlq-vIy"
      }
    },
    {
      "cell_type": "markdown",
      "source": [
        "1.  What are data structures, and why are they important ?\n",
        "   - A data structure is a way of organizing and storing data efficiently for easy access and modification.\n",
        "\n",
        "  Why Are They Important?\n",
        "\n",
        "   -  Efficiency – Improves performance of algorithms.\n",
        "   -  Organization – Helps manage and structure data logically.\n",
        "   -  Scalability – Supports handling large data efficiently.\n",
        "   -   Optimization – Reduces memory usage and speeds up operations.\n",
        "2.  Explain the difference between mutable and immutable data types with examples.\n",
        "    - Mutable: Can be changed after creation (modifications happen in place).\n",
        "    - Examples: list, dict, set\n",
        "    - Immutable: Cannot be changed after creation (modifications create a new object).\n",
        "    - Examples: tuple, str, int, float, bool\n"
      ],
      "metadata": {
        "id": "a85kZZEs_DmQ"
      }
    },
    {
      "cell_type": "markdown",
      "source": [
        "Mutable Data Type Example"
      ],
      "metadata": {
        "id": "u2EmCQuyHBjF"
      }
    },
    {
      "cell_type": "code",
      "source": [
        "my_list = [1, 2, 3]\n",
        "my_list.append(4)  # List modified\n"
      ],
      "metadata": {
        "id": "PSzt5nK3HKvp"
      },
      "execution_count": null,
      "outputs": []
    },
    {
      "cell_type": "markdown",
      "source": [
        "Immutable Data Type Example"
      ],
      "metadata": {
        "id": "YXZCQMjHHPze"
      }
    },
    {
      "cell_type": "code",
      "source": [
        "my_string = \"hello\"\n",
        "my_string[0] = \"H\"  # Error! Strings are immutable\n"
      ],
      "metadata": {
        "id": "sAEWZz1rHeJ7"
      },
      "execution_count": null,
      "outputs": []
    },
    {
      "cell_type": "markdown",
      "source": [
        "3. What are the main differences between lists and tuples in Python ?\n",
        "   - Feature - Mutability\n",
        "   - List (list) - Mutable (modifiable)\n",
        "   - Tuple (tuple) - Immutable (cannot be modified)\n",
        "\n",
        "   - Feature - Syntax\n",
        "   - List (list) - [1, 2, 3]\n",
        "   - Tuple (tuole) - (1, 2, 3)\n",
        "\n",
        "   - Feature - Performance\n",
        "   - List (list) - Slower\n",
        "   - Tuble (tuple) - Faster\n",
        "\n",
        "   - Feature - Memory Usage\n",
        "   - List (list) - More\n",
        "   - Tuple (tuple) - Less\n",
        "\n",
        "   - Feature - Use Case\n",
        "   - List (list) - When data needs changes\n",
        "   - Tuple (tuple) - When data should stay constant\n",
        "4. Describe how dictionaries store data.   \n",
        "   - Stores key-value pairs using a hash table.\n",
        "   - Keys are hashed for fast lookups (O(1) time complexity).\n",
        "   - Keys must be immutable (e.g., str, int, tuple).\n",
        "   - Handles collisions using open addressing.\n",
        "   - Maintains insertion order (Python 3.7+).\n",
        "5. Why might you use a set instead of a list in Python ?\n",
        "   - No duplicates (ensures uniqueness).\n",
        "   - Faster lookups (O(1) vs. O(n) in lists).\n",
        "   - Unordered (no indexing, unlike lists).\n",
        "   - Use sets for uniqueness & speed; lists for order & duplicates.  \n",
        "6. What is a string in Python, and how is it different from a list ?\n",
        "   - A string is an immutable sequence of characters used for text, - - while a list is a mutable sequence that can hold elements of any type.\n",
        "   - Strings cannot be modified directly (you need to create a new one), but lists can be changed in place (add, remove, or modify elements).\n",
        "   - Strings hold only characters, while lists can hold mixed data types.\n",
        "   - Use strings for text, lists for flexible collections.  \n",
        "7. How do tuples ensure data integrity in Python ?\n",
        "   - uples in Python are immutable, meaning once created, their data cannot be changed. This ensures data integrity in the following ways:\n",
        "\n",
        "   - No Modification: You can't accidentally modify elements of a tuple, preventing unintended changes to data.\n",
        "\n",
        "   - Hashable: Since tuples are immutable, they can be used as keys in dictionaries, ensuring that data stored as a tuple remains constant.\n",
        "\n",
        "   - Faster Performance: Being immutable, tuples are more memory-efficient and faster to access than lists, making them ideal for storing constant data.   \n",
        "8. What is a hash table, and how does it relate to dictionaries in Python ?\n",
        "    - A hash table is a data structure that stores key-value pairs, where keys are hashed to unique indices for fast access.\n",
        "\n",
        "    - In Python dictionaries, this hashing mechanism allows for quick lookups (O(1) time complexity) by hashing the keys to find their corresponding values.\n",
        "    - Dictionaries use hash tables for efficient storage and retrieval of data.\n",
        " 9.  Can lists contain different data types in Python ?\n",
        "    - Yes, lists in Python can contain elements of different data types. A single list can hold integers, strings, floats, booleans, and even other lists or objects.\n",
        "    -  Lists are versatile and can hold mixed data types.\n",
        " 10.  Explain why strings are immutable in Python .\n",
        "    - Strings are immutable in Python to ensure:\n",
        "\n",
        "    - Efficiency: Memory can be optimized with string interning.\n",
        "    - Data Integrity: Prevent accidental modifications.\n",
        "    - Hashability: Allows strings to be used as dictionary keys.\n",
        "    - Performance: Faster comparisons and hashing.\n",
        "\n",
        "- Immutability helps maintain efficiency, integrity, and reliability in string handling.  \n",
        "11. What advantages do dictionaries offer over lists for certain tasks ?\n",
        "    - Dictionaries offer several advantages over lists for certain tasks:\n",
        "\n",
        "    - Faster Lookups: Accessing values by key is O(1), while lists require O(n) for searching.\n",
        "    - Key-Value Pairs: Dictionaries store data as key-value pairs, making them ideal for tasks where data needs to be associated with a unique key.\n",
        "    - No Duplicates: Keys in dictionaries must be unique, preventing accidental duplication.\n",
        "- Use dictionaries when fast lookups and key-based storage are needed.     \n",
        "12. Describe a scenario where using a tuple would be preferable over a list .\n",
        "     - A tuple would be preferable over a list when you need to store constant, unchanging data. For example, if you're storing coordinates (latitude, longitude) that shouldn't change, using a tuple ensures the data remains intact and also provides better performance and memory efficiency compared to a list.\n",
        "13.  How do sets handle duplicate values in Python ?\n",
        "     - Sets automatically remove duplicates when elements are added. If a duplicate value is added, it is ignored, ensuring all elements in a set are unique.\n",
        "     - Sets only store unique values.\n",
        "14. How does the “in” keyword work differently for lists and dictionaries ?\n",
        "     - For lists, the in keyword checks if an element exists in the list.\n",
        "     - For dictionaries, the in keyword checks if a key exists in the dictionary.\n",
        "     -  In lists: checks for element presence.\n",
        "     -  In dictionaries: checks for key presence.             \n",
        "15.  Can you modify the elements of a tuple? Explain why or why not .\n",
        "     -  No, you cannot modify the elements of a tuple because tuples are immutable in Python. Once a tuple is created, its content cannot be changed, added, or removed. This immutability ensures that the data remains constant and is useful for guaranteeing data integrity.\n",
        "     - Tuples are designed to remain unchanged to ensure consistency and performance.\n",
        "16. What is a nested dictionary, and give an example of its use case ?\n",
        "     - A nested dictionary is a dictionary where the values are other dictionaries, allowing you to store more complex data structures.\n",
        "\n",
        "     - Use Case:\n",
        "     - A nested dictionary is useful for storing hierarchical data, such as information about multiple people where each person has attributes like age and city.  \n",
        "     - Use nested dictionaries to store hierarchical or multi-level data.      \n",
        "17. Describe the time complexity of accessing elements in a dictionary.\n",
        "     - Accessing elements in a dictionary has an average time complexity of O(1), meaning it takes constant time, regardless of the number of items in the dictionary. However, in the worst case (e.g., hash collisions), the time complexity can degrade to O(n).\n",
        "18.  In what situations are lists preferred over dictionaries ?\n",
        "     - Order matters: Lists maintain the order of elements, while dictionaries do not guarantee order (prior to Python 3.7).\n",
        "     - Indexed access: When you need to access elements by position (using an index), lists are ideal.\n",
        "     - Small data set: For smaller, simpler collections without key-value pairs, lists can be more efficient.\n",
        "     - Memory efficiency: Lists typically use less memory than dictionaries for storing simple collections.  \n",
        "19. Why are dictionaries considered unordered, and how does that affect data retrieval ?\n",
        "     - Dictionaries are considered unordered because the key-value pairs are stored based on a hash function, not in a specific sequence. This means the order of items is not guaranteed (in versions prior to Python 3.7).\n",
        "\n",
        "     - However, this does not affect data retrieval efficiency—lookup by key is still O(1) on average, as the hash function quickly locates the value associated with a given key, regardless of order.\n",
        "20. Explain the difference between a list and a dictionary in terms of data retrieval.\n",
        "     - In a list, data is retrieved using an index (e.g., list[2]), and the retrieval time is O(1) for direct access by position.\n",
        "\n",
        "     - In a dictionary, data is retrieved using a key (e.g., dict[\"key\"]), and the retrieval time is also O(1) on average, as it uses hashing to quickly find the value.\n",
        "\n",
        "     - The key difference is that lists use numeric indices, while dictionaries use unique keys.                          \n"
      ],
      "metadata": {
        "id": "myIxKlNiHjes"
      }
    },
    {
      "cell_type": "markdown",
      "source": [
        "#Practical Questions"
      ],
      "metadata": {
        "id": "D8z6kpxHTlDI"
      }
    },
    {
      "cell_type": "markdown",
      "source": [
        "1.  Write a code to create a string with your name and print it."
      ],
      "metadata": {
        "id": "F_fIxoSLTtWv"
      }
    },
    {
      "cell_type": "code",
      "source": [
        "name = \"ChatGPT\"\n",
        "print(name)\n"
      ],
      "metadata": {
        "id": "TSxynk8OTyOX"
      },
      "execution_count": null,
      "outputs": []
    },
    {
      "cell_type": "markdown",
      "source": [
        "2. Write a code to find the length of the string \"Hello World\"."
      ],
      "metadata": {
        "id": "ofJdsGsXT346"
      }
    },
    {
      "cell_type": "code",
      "source": [
        "string = \"Hello World\"\n",
        "length = len(string)\n",
        "print(length)\n"
      ],
      "metadata": {
        "id": "8HypKJMUUBPI"
      },
      "execution_count": null,
      "outputs": []
    },
    {
      "cell_type": "markdown",
      "source": [
        "3. Write a code to slice the first 3 characters from the string \"Python Programming\"."
      ],
      "metadata": {
        "id": "LVQbBxAhUCMH"
      }
    },
    {
      "cell_type": "code",
      "source": [
        "string = \"Python Programming\"\n",
        "sliced_string = string[:3]\n",
        "print(sliced_string)\n"
      ],
      "metadata": {
        "id": "z8-c9AXMUGfk"
      },
      "execution_count": null,
      "outputs": []
    },
    {
      "cell_type": "markdown",
      "source": [
        "4. Write a code to convert the string \"hello\" to uppercase."
      ],
      "metadata": {
        "id": "AweYuyB0UMpm"
      }
    },
    {
      "cell_type": "code",
      "source": [
        "string = \"hello\"\n",
        "uppercase_string = string.upper()\n",
        "print(uppercase_string)\n"
      ],
      "metadata": {
        "id": "0j7pXIuOUQR8"
      },
      "execution_count": null,
      "outputs": []
    },
    {
      "cell_type": "markdown",
      "source": [
        "5. Write a code to replace the word \"apple\" with \"orange\" in the string \"I like apple\"."
      ],
      "metadata": {
        "id": "TBCfI9ZdUXMW"
      }
    },
    {
      "cell_type": "code",
      "source": [
        "string = \"I like apple\"\n",
        "new_string = string.replace(\"apple\", \"orange\")\n",
        "print(new_string)\n"
      ],
      "metadata": {
        "id": "woR15cxaUbhd"
      },
      "execution_count": null,
      "outputs": []
    },
    {
      "cell_type": "markdown",
      "source": [
        "6. Write a code to create a list with numbers 1 to 5 and print it."
      ],
      "metadata": {
        "id": "tgXLCB8kUg5K"
      }
    },
    {
      "cell_type": "code",
      "source": [
        "numbers = [1, 2, 3, 4, 5]\n",
        "print(numbers)\n"
      ],
      "metadata": {
        "id": "4eXCxo2OUlmy"
      },
      "execution_count": null,
      "outputs": []
    },
    {
      "cell_type": "markdown",
      "source": [
        "7. Write a code to append the number 10 to the list [1, 2, 3, 4]."
      ],
      "metadata": {
        "id": "rb0t-XvxUqHP"
      }
    },
    {
      "cell_type": "code",
      "source": [
        "numbers = [1, 2, 3, 4]\n",
        "numbers.append(10)\n",
        "print(numbers)\n"
      ],
      "metadata": {
        "id": "syR5zMExU4R9"
      },
      "execution_count": null,
      "outputs": []
    },
    {
      "cell_type": "markdown",
      "source": [
        "8.  Write a code to remove the number 3 from the list [1, 2, 3, 4, 5]."
      ],
      "metadata": {
        "id": "ptp80sXBU8r-"
      }
    },
    {
      "cell_type": "code",
      "source": [
        "numbers = [1, 2, 3, 4, 5]\n",
        "numbers.remove(3)\n",
        "print(numbers)\n"
      ],
      "metadata": {
        "id": "iSKxCewWVBML"
      },
      "execution_count": null,
      "outputs": []
    },
    {
      "cell_type": "markdown",
      "source": [
        "9.  Write a code to access the second element in the list ['a', 'b', 'c', 'd']."
      ],
      "metadata": {
        "id": "IhO3dHtwVH7H"
      }
    },
    {
      "cell_type": "code",
      "source": [
        "letters = ['a', 'b', 'c', 'd']\n",
        "second_element = letters[1]\n",
        "print(second_element)\n"
      ],
      "metadata": {
        "id": "fgZMP7QVVMeO"
      },
      "execution_count": null,
      "outputs": []
    },
    {
      "cell_type": "markdown",
      "source": [
        "10. Write a code to reverse the list [10, 20, 30, 40, 50]."
      ],
      "metadata": {
        "id": "B9O7eRHZVRX6"
      }
    },
    {
      "cell_type": "code",
      "source": [
        "numbers = [10, 20, 30, 40, 50]\n",
        "numbers.reverse()\n",
        "print(numbers)\n"
      ],
      "metadata": {
        "id": "zUebj0WSVU9D"
      },
      "execution_count": null,
      "outputs": []
    },
    {
      "cell_type": "markdown",
      "source": [
        "11. Write a code to create a tuple with the elements 100, 200, 300 and print it."
      ],
      "metadata": {
        "id": "UvFoRjwvVZbu"
      }
    },
    {
      "cell_type": "code",
      "source": [
        "my_tuple = (100, 200, 300)\n",
        "print(my_tuple)\n"
      ],
      "metadata": {
        "id": "x-nqJ-npVdjF"
      },
      "execution_count": null,
      "outputs": []
    },
    {
      "cell_type": "markdown",
      "source": [
        "12.  Write a code to access the second-to-last element of the tuple ('red', 'green', 'blue', 'yellow')."
      ],
      "metadata": {
        "id": "Zf0geRRBVi4v"
      }
    },
    {
      "cell_type": "code",
      "source": [
        "colors = ('red', 'green', 'blue', 'yellow')\n",
        "second_to_last = colors[-2]\n",
        "print(second_to_last)\n"
      ],
      "metadata": {
        "id": "3WasgUOaVmo3"
      },
      "execution_count": null,
      "outputs": []
    },
    {
      "cell_type": "markdown",
      "source": [
        "13.  Write a code to find the minimum number in the tuple (10, 20, 5, 15)."
      ],
      "metadata": {
        "id": "vAWeglZlVrTs"
      }
    },
    {
      "cell_type": "code",
      "source": [
        "numbers = (10, 20, 5, 15)\n",
        "min_number = min(numbers)\n",
        "print(min_number)\n"
      ],
      "metadata": {
        "id": "fTONbHjHVvau"
      },
      "execution_count": null,
      "outputs": []
    },
    {
      "cell_type": "markdown",
      "source": [
        "14. Write a code to find the index of the element \"cat\" in the tuple ('dog', 'cat', 'rabbit')."
      ],
      "metadata": {
        "id": "Lwa4hxbyV0FL"
      }
    },
    {
      "cell_type": "code",
      "source": [
        "animals = ('dog', 'cat', 'rabbit')\n",
        "index_of_cat = animals.index('cat')\n",
        "print(index_of_cat)\n"
      ],
      "metadata": {
        "id": "DeTU1Ja2V6OA"
      },
      "execution_count": null,
      "outputs": []
    },
    {
      "cell_type": "markdown",
      "source": [
        "15.  Write a code to create a tuple containing three different fruits and check if \"kiwi\" is in it."
      ],
      "metadata": {
        "id": "ISkt2pj0V-cI"
      }
    },
    {
      "cell_type": "code",
      "source": [
        "fruits = ('apple', 'banana', 'cherry')\n",
        "is_kiwi_in_tuple = 'kiwi' in fruits\n",
        "print(is_kiwi_in_tuple)\n"
      ],
      "metadata": {
        "id": "oarNFtFzWB3L"
      },
      "execution_count": null,
      "outputs": []
    },
    {
      "cell_type": "markdown",
      "source": [
        "16. Write a code to create a set with the elements 'a', 'b', 'c' and print it."
      ],
      "metadata": {
        "id": "YTuuVuD-WH_t"
      }
    },
    {
      "cell_type": "code",
      "source": [
        "my_set = {'a', 'b', 'c'}\n",
        "print(my_set)\n"
      ],
      "metadata": {
        "id": "szlrmCnnWL_h"
      },
      "execution_count": null,
      "outputs": []
    },
    {
      "cell_type": "markdown",
      "source": [
        "17. Write a code to clear all elements from the set {1, 2, 3, 4, 5}."
      ],
      "metadata": {
        "id": "jyP799iNWQpv"
      }
    },
    {
      "cell_type": "code",
      "source": [
        "my_set = {1, 2, 3, 4, 5}\n",
        "my_set.clear()\n",
        "print(my_set)\n"
      ],
      "metadata": {
        "id": "UuAXuQFRWWhg"
      },
      "execution_count": null,
      "outputs": []
    },
    {
      "cell_type": "markdown",
      "source": [
        "18. Write a code to remove the element 4 from the set {1, 2, 3, 4}."
      ],
      "metadata": {
        "id": "cahCf_ejWaqm"
      }
    },
    {
      "cell_type": "code",
      "source": [
        "my_set = {1, 2, 3, 4}\n",
        "my_set.remove(4)\n",
        "print(my_set)\n"
      ],
      "metadata": {
        "id": "HWfHtfI4WfZv"
      },
      "execution_count": null,
      "outputs": []
    },
    {
      "cell_type": "markdown",
      "source": [
        "19.  Write a code to find the union of two sets {1, 2, 3} and {3, 4, 5}."
      ],
      "metadata": {
        "id": "IVuIKVu8Wli8"
      }
    },
    {
      "cell_type": "code",
      "source": [
        "set1 = {1, 2, 3}\n",
        "set2 = {3, 4, 5}\n",
        "union_set = set1 | set2\n",
        "print(union_set)\n"
      ],
      "metadata": {
        "id": "etducu8iWp57"
      },
      "execution_count": null,
      "outputs": []
    },
    {
      "cell_type": "markdown",
      "source": [
        "20. Write a code to find the intersection of two sets {1, 2, 3} and {2, 3, 4}."
      ],
      "metadata": {
        "id": "dbN_YBMqWtzw"
      }
    },
    {
      "cell_type": "code",
      "source": [
        "set1 = {1, 2, 3}\n",
        "set2 = {2, 3, 4}\n",
        "intersection_set = set1 & set2\n",
        "print(intersection_set)\n"
      ],
      "metadata": {
        "id": "WMCMTuOpWyKs"
      },
      "execution_count": null,
      "outputs": []
    },
    {
      "cell_type": "markdown",
      "source": [
        "21. Write a code to create a dictionary with the keys \"name\", \"age\", and \"city\", and print it."
      ],
      "metadata": {
        "id": "NOFX7qosW2pz"
      }
    },
    {
      "cell_type": "code",
      "source": [
        "my_dict = {\n",
        "    \"name\": \"John\",\n",
        "    \"age\": 30,\n",
        "    \"city\": \"New York\"\n",
        "}\n",
        "print(my_dict)\n"
      ],
      "metadata": {
        "id": "1dvGIX0cW6zQ"
      },
      "execution_count": null,
      "outputs": []
    },
    {
      "cell_type": "markdown",
      "source": [
        "22. Write a code to add a new key-value pair \"country\": \"USA\" to the dictionary {'name': 'John', 'age': 25}."
      ],
      "metadata": {
        "id": "WxjddC3pW-Ke"
      }
    },
    {
      "cell_type": "code",
      "source": [
        "my_dict = {'name': 'John', 'age': 25}\n",
        "my_dict['country'] = 'USA'\n",
        "print(my_dict)\n"
      ],
      "metadata": {
        "id": "RQ_6_5o0XDRP"
      },
      "execution_count": null,
      "outputs": []
    },
    {
      "cell_type": "markdown",
      "source": [
        "23. Write a code to access the value associated with the key \"name\" in the dictionary {'name': 'Alice', 'age': 30}."
      ],
      "metadata": {
        "id": "9gqYX1GkXJpy"
      }
    },
    {
      "cell_type": "code",
      "source": [
        "my_dict = {'name': 'Alice', 'age': 30}\n",
        "name_value = my_dict['name']\n",
        "print(name_value)\n"
      ],
      "metadata": {
        "id": "NvegNZpgXOIX"
      },
      "execution_count": null,
      "outputs": []
    },
    {
      "cell_type": "markdown",
      "source": [
        "24.  Write a code to remove the key \"age\" from the dictionary {'name': 'Bob', 'age': 22, 'city': 'New York'}."
      ],
      "metadata": {
        "id": "iNJiBLkeXR5t"
      }
    },
    {
      "cell_type": "code",
      "source": [
        "my_dict = {'name': 'Bob', 'age': 22, 'city': 'New York'}\n",
        "del my_dict['age']\n",
        "print(my_dict)\n"
      ],
      "metadata": {
        "id": "-6vsl_McXWnt"
      },
      "execution_count": null,
      "outputs": []
    },
    {
      "cell_type": "markdown",
      "source": [
        "25. Write a code to check if the key \"city\" exists in the dictionary {'name': 'Alice', 'city': 'Paris'}."
      ],
      "metadata": {
        "id": "j_3f-Dy_Xd5H"
      }
    },
    {
      "cell_type": "code",
      "source": [
        "my_dict = {'name': 'Alice', 'city': 'Paris'}\n",
        "key_exists = 'city' in my_dict\n",
        "print(key_exists)\n"
      ],
      "metadata": {
        "id": "zYcGfCXFXiDp"
      },
      "execution_count": null,
      "outputs": []
    },
    {
      "cell_type": "markdown",
      "source": [
        "26. Write a code to create a list, a tuple, and a dictionary, and print them all."
      ],
      "metadata": {
        "id": "bK9rv_-xXmEB"
      }
    },
    {
      "cell_type": "code",
      "source": [
        "# Creating a list, a tuple, and a dictionary\n",
        "my_list = [1, 2, 3, 4, 5]\n",
        "my_tuple = ('apple', 'banana', 'cherry')\n",
        "my_dict = {'name': 'John', 'age': 30, 'city': 'New York'}\n",
        "\n",
        "# Printing them\n",
        "print(\"List:\", my_list)\n",
        "print(\"Tuple:\", my_tuple)\n",
        "print(\"Dictionary:\", my_dict)\n"
      ],
      "metadata": {
        "id": "efETajpUXqM9"
      },
      "execution_count": null,
      "outputs": []
    },
    {
      "cell_type": "markdown",
      "source": [
        "27.  Write a code to create a list of 5 random numbers between 1 and 100, sort it in ascending order, and print theresult.(replaced_)."
      ],
      "metadata": {
        "id": "1WRERSw2Xxcl"
      }
    },
    {
      "cell_type": "code",
      "source": [
        "[44, 48, 51, 73, 81]\n"
      ],
      "metadata": {
        "id": "hQLEnGiUYMgP"
      },
      "execution_count": null,
      "outputs": []
    },
    {
      "cell_type": "markdown",
      "source": [
        "28. . Write a code to create a list with strings and print the element at the third index."
      ],
      "metadata": {
        "id": "x1_mxXpVYOgm"
      }
    },
    {
      "cell_type": "code",
      "source": [
        "my_list = ['apple', 'banana', 'cherry', 'date', 'elderberry']\n",
        "element_at_third_index = my_list[3]\n",
        "print(element_at_third_index)\n"
      ],
      "metadata": {
        "id": "EyG-CVYFYSn4"
      },
      "execution_count": null,
      "outputs": []
    },
    {
      "cell_type": "markdown",
      "source": [
        "29. Write a code to combine two dictionaries into one and print the result."
      ],
      "metadata": {
        "id": "ptN587GLYYZs"
      }
    },
    {
      "cell_type": "code",
      "source": [
        "dict1 = {'name': 'Alice', 'age': 25}\n",
        "dict2 = {'city': 'New York', 'country': 'USA'}\n",
        "\n",
        "# Combine the two dictionaries\n",
        "combined_dict = {**dict1, **dict2}\n",
        "\n",
        "# Print the result\n",
        "print(combined_dict)\n"
      ],
      "metadata": {
        "id": "e2tVEtidYc4w"
      },
      "execution_count": null,
      "outputs": []
    },
    {
      "cell_type": "markdown",
      "source": [
        "30.  Write a code to convert a list of strings into a set."
      ],
      "metadata": {
        "id": "lEkgd_pNYhbX"
      }
    },
    {
      "cell_type": "code",
      "source": [
        "my_list = ['apple', 'banana', 'cherry', 'apple']\n",
        "my_set = set(my_list)\n",
        "print(my_set)\n"
      ],
      "metadata": {
        "id": "mFBiSesoYlYo"
      },
      "execution_count": null,
      "outputs": []
    }
  ]
}